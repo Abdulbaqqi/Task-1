{
 "cells": [
  {
   "cell_type": "code",
   "execution_count": 1,
   "metadata": {
    "collapsed": true
   },
   "outputs": [],
   "source": [
    "import pandas as pd"
   ]
  },
  {
   "cell_type": "code",
   "execution_count": 2,
   "metadata": {
    "collapsed": true
   },
   "outputs": [],
   "source": [
    "import pandas as pd"
   ]
  },
  {
   "cell_type": "code",
   "execution_count": 3,
   "metadata": {
    "collapsed": true
   },
   "outputs": [],
   "source": [
    "import matplotlib.pyplot as plt"
   ]
  },
  {
   "cell_type": "code",
   "execution_count": 4,
   "metadata": {
    "collapsed": true
   },
   "outputs": [],
   "source": [
    "%matplotlib inline"
   ]
  },
  {
   "cell_type": "code",
   "execution_count": 5,
   "metadata": {
    "collapsed": true
   },
   "outputs": [],
   "source": [
    "import seaborn as sb"
   ]
  },
  {
   "cell_type": "code",
   "execution_count": 10,
   "metadata": {},
   "outputs": [
    {
     "data": {
      "text/html": [
       "<div>\n",
       "<style>\n",
       "    .dataframe thead tr:only-child th {\n",
       "        text-align: right;\n",
       "    }\n",
       "\n",
       "    .dataframe thead th {\n",
       "        text-align: left;\n",
       "    }\n",
       "\n",
       "    .dataframe tbody tr th {\n",
       "        vertical-align: top;\n",
       "    }\n",
       "</style>\n",
       "<table border=\"1\" class=\"dataframe\">\n",
       "  <thead>\n",
       "    <tr style=\"text-align: right;\">\n",
       "      <th></th>\n",
       "      <th>Unnamed: 0</th>\n",
       "      <th>Email</th>\n",
       "      <th>First name</th>\n",
       "      <th>Last name</th>\n",
       "      <th>Location</th>\n",
       "      <th>Phone number</th>\n",
       "    </tr>\n",
       "  </thead>\n",
       "  <tbody>\n",
       "    <tr>\n",
       "      <th>0</th>\n",
       "      <td>0</td>\n",
       "      <td>salawuabdulbaki@gmail.com</td>\n",
       "      <td>Abdubaki</td>\n",
       "      <td>Salawu</td>\n",
       "      <td>Ilorin</td>\n",
       "      <td>9068924442</td>\n",
       "    </tr>\n",
       "  </tbody>\n",
       "</table>\n",
       "</div>"
      ],
      "text/plain": [
       "   Unnamed: 0                      Email First name Last name Location  \\\n",
       "0           0  salawuabdulbaki@gmail.com   Abdubaki    Salawu   Ilorin   \n",
       "\n",
       "   Phone number  \n",
       "0    9068924442  "
      ]
     },
     "execution_count": 10,
     "metadata": {},
     "output_type": "execute_result"
    }
   ],
   "source": [
    "pers_1 = pd.read_csv('salawu_personal_information.csv')\n",
    "pers_1"
   ]
  },
  {
   "cell_type": "code",
   "execution_count": 11,
   "metadata": {},
   "outputs": [
    {
     "data": {
      "text/html": [
       "<div>\n",
       "<style>\n",
       "    .dataframe thead tr:only-child th {\n",
       "        text-align: right;\n",
       "    }\n",
       "\n",
       "    .dataframe thead th {\n",
       "        text-align: left;\n",
       "    }\n",
       "\n",
       "    .dataframe tbody tr th {\n",
       "        vertical-align: top;\n",
       "    }\n",
       "</style>\n",
       "<table border=\"1\" class=\"dataframe\">\n",
       "  <thead>\n",
       "    <tr style=\"text-align: right;\">\n",
       "      <th></th>\n",
       "      <th>Unnamed: 0</th>\n",
       "      <th>Email</th>\n",
       "      <th>First name</th>\n",
       "      <th>Last name</th>\n",
       "      <th>Location</th>\n",
       "      <th>Phone number</th>\n",
       "    </tr>\n",
       "  </thead>\n",
       "  <tbody>\n",
       "    <tr>\n",
       "      <th>0</th>\n",
       "      <td>0</td>\n",
       "      <td>aechealgr8@gmail.com</td>\n",
       "      <td>Samuel</td>\n",
       "      <td>Ajirireloja</td>\n",
       "      <td>Abuja</td>\n",
       "      <td>9076588590</td>\n",
       "    </tr>\n",
       "  </tbody>\n",
       "</table>\n",
       "</div>"
      ],
      "text/plain": [
       "   Unnamed: 0                 Email First name    Last name Location  \\\n",
       "0           0  aechealgr8@gmail.com     Samuel  Ajirireloja    Abuja   \n",
       "\n",
       "   Phone number  \n",
       "0    9076588590  "
      ]
     },
     "execution_count": 11,
     "metadata": {},
     "output_type": "execute_result"
    }
   ],
   "source": [
    "pers_2 = pd.read_csv('ajirireloja_personal_information.csv')\n",
    "pers_2"
   ]
  },
  {
   "cell_type": "code",
   "execution_count": 12,
   "metadata": {},
   "outputs": [
    {
     "data": {
      "text/html": [
       "<div>\n",
       "<style>\n",
       "    .dataframe thead tr:only-child th {\n",
       "        text-align: right;\n",
       "    }\n",
       "\n",
       "    .dataframe thead th {\n",
       "        text-align: left;\n",
       "    }\n",
       "\n",
       "    .dataframe tbody tr th {\n",
       "        vertical-align: top;\n",
       "    }\n",
       "</style>\n",
       "<table border=\"1\" class=\"dataframe\">\n",
       "  <thead>\n",
       "    <tr style=\"text-align: right;\">\n",
       "      <th></th>\n",
       "      <th>Unnamed: 0</th>\n",
       "      <th>Email</th>\n",
       "      <th>First name</th>\n",
       "      <th>Last name</th>\n",
       "      <th>Location</th>\n",
       "      <th>Phone number</th>\n",
       "    </tr>\n",
       "  </thead>\n",
       "  <tbody>\n",
       "    <tr>\n",
       "      <th>0</th>\n",
       "      <td>0</td>\n",
       "      <td>adeyinka.statesman@gmail.com</td>\n",
       "      <td>Adeyinka</td>\n",
       "      <td>Statesman</td>\n",
       "      <td>Dhahran</td>\n",
       "      <td>582556152</td>\n",
       "    </tr>\n",
       "  </tbody>\n",
       "</table>\n",
       "</div>"
      ],
      "text/plain": [
       "   Unnamed: 0                         Email First name  Last name Location  \\\n",
       "0           0  adeyinka.statesman@gmail.com   Adeyinka  Statesman  Dhahran   \n",
       "\n",
       "   Phone number  \n",
       "0     582556152  "
      ]
     },
     "execution_count": 12,
     "metadata": {},
     "output_type": "execute_result"
    }
   ],
   "source": [
    "pers_3 = pd.read_csv('statesman_personal_information.csv')\n",
    "pers_3"
   ]
  },
  {
   "cell_type": "code",
   "execution_count": 13,
   "metadata": {},
   "outputs": [
    {
     "data": {
      "text/html": [
       "<div>\n",
       "<style>\n",
       "    .dataframe thead tr:only-child th {\n",
       "        text-align: right;\n",
       "    }\n",
       "\n",
       "    .dataframe thead th {\n",
       "        text-align: left;\n",
       "    }\n",
       "\n",
       "    .dataframe tbody tr th {\n",
       "        vertical-align: top;\n",
       "    }\n",
       "</style>\n",
       "<table border=\"1\" class=\"dataframe\">\n",
       "  <thead>\n",
       "    <tr style=\"text-align: right;\">\n",
       "      <th></th>\n",
       "      <th>Unnamed: 0</th>\n",
       "      <th>Email</th>\n",
       "      <th>First name</th>\n",
       "      <th>Last name</th>\n",
       "      <th>Location</th>\n",
       "      <th>Phone number</th>\n",
       "    </tr>\n",
       "  </thead>\n",
       "  <tbody>\n",
       "    <tr>\n",
       "      <th>0</th>\n",
       "      <td>0</td>\n",
       "      <td>samueloreoluwa4@gmail.com</td>\n",
       "      <td>Samuel</td>\n",
       "      <td>Akinlabi</td>\n",
       "      <td>Lagos</td>\n",
       "      <td>7012659092</td>\n",
       "    </tr>\n",
       "  </tbody>\n",
       "</table>\n",
       "</div>"
      ],
      "text/plain": [
       "   Unnamed: 0                      Email First name Last name Location  \\\n",
       "0           0  samueloreoluwa4@gmail.com     Samuel  Akinlabi    Lagos   \n",
       "\n",
       "   Phone number  \n",
       "0    7012659092  "
      ]
     },
     "execution_count": 13,
     "metadata": {},
     "output_type": "execute_result"
    }
   ],
   "source": [
    "pers_4 = pd.read_csv('akinlabi_personal_information.csv')\n",
    "pers_4"
   ]
  },
  {
   "cell_type": "code",
   "execution_count": 14,
   "metadata": {},
   "outputs": [
    {
     "data": {
      "text/html": [
       "<div>\n",
       "<style>\n",
       "    .dataframe thead tr:only-child th {\n",
       "        text-align: right;\n",
       "    }\n",
       "\n",
       "    .dataframe thead th {\n",
       "        text-align: left;\n",
       "    }\n",
       "\n",
       "    .dataframe tbody tr th {\n",
       "        vertical-align: top;\n",
       "    }\n",
       "</style>\n",
       "<table border=\"1\" class=\"dataframe\">\n",
       "  <thead>\n",
       "    <tr style=\"text-align: right;\">\n",
       "      <th></th>\n",
       "      <th>Unnamed: 0</th>\n",
       "      <th>Email</th>\n",
       "      <th>First name</th>\n",
       "      <th>Last name</th>\n",
       "      <th>Location</th>\n",
       "      <th>Phone number</th>\n",
       "    </tr>\n",
       "  </thead>\n",
       "  <tbody>\n",
       "    <tr>\n",
       "      <th>0</th>\n",
       "      <td>0</td>\n",
       "      <td>arevictor@gmail.com</td>\n",
       "      <td>Victor</td>\n",
       "      <td>Are</td>\n",
       "      <td>Ilorin</td>\n",
       "      <td>7069395130</td>\n",
       "    </tr>\n",
       "  </tbody>\n",
       "</table>\n",
       "</div>"
      ],
      "text/plain": [
       "   Unnamed: 0                Email First name Last name Location  Phone number\n",
       "0           0  arevictor@gmail.com     Victor       Are   Ilorin    7069395130"
      ]
     },
     "execution_count": 14,
     "metadata": {},
     "output_type": "execute_result"
    }
   ],
   "source": [
    "pers_5 = pd.read_csv('are_personal_information.csv')\n",
    "pers_5"
   ]
  },
  {
   "cell_type": "code",
   "execution_count": 15,
   "metadata": {},
   "outputs": [
    {
     "data": {
      "text/html": [
       "<div>\n",
       "<style>\n",
       "    .dataframe thead tr:only-child th {\n",
       "        text-align: right;\n",
       "    }\n",
       "\n",
       "    .dataframe thead th {\n",
       "        text-align: left;\n",
       "    }\n",
       "\n",
       "    .dataframe tbody tr th {\n",
       "        vertical-align: top;\n",
       "    }\n",
       "</style>\n",
       "<table border=\"1\" class=\"dataframe\">\n",
       "  <thead>\n",
       "    <tr style=\"text-align: right;\">\n",
       "      <th></th>\n",
       "      <th>Unnamed: 0</th>\n",
       "      <th>Email</th>\n",
       "      <th>First name</th>\n",
       "      <th>Last name</th>\n",
       "      <th>Location</th>\n",
       "      <th>Phone number</th>\n",
       "    </tr>\n",
       "  </thead>\n",
       "  <tbody>\n",
       "    <tr>\n",
       "      <th>0</th>\n",
       "      <td>0</td>\n",
       "      <td>aishatmorenike1@gmail.com</td>\n",
       "      <td>Aishat</td>\n",
       "      <td>Aremu</td>\n",
       "      <td>Lagos</td>\n",
       "      <td>7084283672</td>\n",
       "    </tr>\n",
       "  </tbody>\n",
       "</table>\n",
       "</div>"
      ],
      "text/plain": [
       "   Unnamed: 0                      Email First name Last name Location  \\\n",
       "0           0  aishatmorenike1@gmail.com     Aishat     Aremu    Lagos   \n",
       "\n",
       "   Phone number  \n",
       "0    7084283672  "
      ]
     },
     "execution_count": 15,
     "metadata": {},
     "output_type": "execute_result"
    }
   ],
   "source": [
    "pers_6 = pd.read_csv('aremu_personal_information.csv')\n",
    "pers_6"
   ]
  },
  {
   "cell_type": "code",
   "execution_count": 16,
   "metadata": {},
   "outputs": [
    {
     "data": {
      "text/html": [
       "<div>\n",
       "<style>\n",
       "    .dataframe thead tr:only-child th {\n",
       "        text-align: right;\n",
       "    }\n",
       "\n",
       "    .dataframe thead th {\n",
       "        text-align: left;\n",
       "    }\n",
       "\n",
       "    .dataframe tbody tr th {\n",
       "        vertical-align: top;\n",
       "    }\n",
       "</style>\n",
       "<table border=\"1\" class=\"dataframe\">\n",
       "  <thead>\n",
       "    <tr style=\"text-align: right;\">\n",
       "      <th></th>\n",
       "      <th>Unnamed: 0</th>\n",
       "      <th>Email</th>\n",
       "      <th>First name</th>\n",
       "      <th>Last name</th>\n",
       "      <th>Location</th>\n",
       "      <th>Phone number</th>\n",
       "    </tr>\n",
       "  </thead>\n",
       "  <tbody>\n",
       "    <tr>\n",
       "      <th>0</th>\n",
       "      <td>0</td>\n",
       "      <td>igetheophilus02@gmail.com</td>\n",
       "      <td>Theophilus</td>\n",
       "      <td>Ige</td>\n",
       "      <td>Lagos</td>\n",
       "      <td>8052085331</td>\n",
       "    </tr>\n",
       "  </tbody>\n",
       "</table>\n",
       "</div>"
      ],
      "text/plain": [
       "   Unnamed: 0                      Email  First name Last name Location  \\\n",
       "0           0  igetheophilus02@gmail.com  Theophilus       Ige    Lagos   \n",
       "\n",
       "   Phone number  \n",
       "0    8052085331  "
      ]
     },
     "execution_count": 16,
     "metadata": {},
     "output_type": "execute_result"
    }
   ],
   "source": [
    "pers_7 = pd.read_csv('ige_personal_information.csv')\n",
    "pers_7"
   ]
  },
  {
   "cell_type": "code",
   "execution_count": 18,
   "metadata": {},
   "outputs": [],
   "source": [
    "merge = pd.concat([pers_1,pers_2,pers_3,pers_4,pers_5,pers_6,pers_7])#here the concat() function in pandas is used to merge all the seven datas together\n",
    "merge.to_csv('personal_information_all.csv')"
   ]
  },
  {
   "cell_type": "code",
   "execution_count": null,
   "metadata": {},
   "outputs": [],
   "source": []
  },
  {
   "cell_type": "code",
   "execution_count": 34,
   "metadata": {},
   "outputs": [
    {
     "data": {
      "text/html": [
       "<div>\n",
       "<style>\n",
       "    .dataframe thead tr:only-child th {\n",
       "        text-align: right;\n",
       "    }\n",
       "\n",
       "    .dataframe thead th {\n",
       "        text-align: left;\n",
       "    }\n",
       "\n",
       "    .dataframe tbody tr th {\n",
       "        vertical-align: top;\n",
       "    }\n",
       "</style>\n",
       "<table border=\"1\" class=\"dataframe\">\n",
       "  <thead>\n",
       "    <tr style=\"text-align: right;\">\n",
       "      <th></th>\n",
       "      <th>Email</th>\n",
       "      <th>First name</th>\n",
       "      <th>Last name</th>\n",
       "      <th>Location</th>\n",
       "      <th>Phone number</th>\n",
       "    </tr>\n",
       "  </thead>\n",
       "  <tbody>\n",
       "    <tr>\n",
       "      <th>0</th>\n",
       "      <td>salawuabdulbaki@gmail.com</td>\n",
       "      <td>Abdubaki</td>\n",
       "      <td>Salawu</td>\n",
       "      <td>Ilorin</td>\n",
       "      <td>9068924442</td>\n",
       "    </tr>\n",
       "    <tr>\n",
       "      <th>0</th>\n",
       "      <td>aechealgr8@gmail.com</td>\n",
       "      <td>Samuel</td>\n",
       "      <td>Ajirireloja</td>\n",
       "      <td>Abuja</td>\n",
       "      <td>9076588590</td>\n",
       "    </tr>\n",
       "    <tr>\n",
       "      <th>0</th>\n",
       "      <td>adeyinka.statesman@gmail.com</td>\n",
       "      <td>Adeyinka</td>\n",
       "      <td>Statesman</td>\n",
       "      <td>Dhahran</td>\n",
       "      <td>582556152</td>\n",
       "    </tr>\n",
       "    <tr>\n",
       "      <th>0</th>\n",
       "      <td>samueloreoluwa4@gmail.com</td>\n",
       "      <td>Samuel</td>\n",
       "      <td>Akinlabi</td>\n",
       "      <td>Lagos</td>\n",
       "      <td>7012659092</td>\n",
       "    </tr>\n",
       "    <tr>\n",
       "      <th>0</th>\n",
       "      <td>arevictor@gmail.com</td>\n",
       "      <td>Victor</td>\n",
       "      <td>Are</td>\n",
       "      <td>Ilorin</td>\n",
       "      <td>7069395130</td>\n",
       "    </tr>\n",
       "    <tr>\n",
       "      <th>0</th>\n",
       "      <td>aishatmorenike1@gmail.com</td>\n",
       "      <td>Aishat</td>\n",
       "      <td>Aremu</td>\n",
       "      <td>Lagos</td>\n",
       "      <td>7084283672</td>\n",
       "    </tr>\n",
       "    <tr>\n",
       "      <th>0</th>\n",
       "      <td>igetheophilus02@gmail.com</td>\n",
       "      <td>Theophilus</td>\n",
       "      <td>Ige</td>\n",
       "      <td>Lagos</td>\n",
       "      <td>8052085331</td>\n",
       "    </tr>\n",
       "  </tbody>\n",
       "</table>\n",
       "</div>"
      ],
      "text/plain": [
       "                          Email  First name    Last name Location  \\\n",
       "0     salawuabdulbaki@gmail.com    Abdubaki       Salawu   Ilorin   \n",
       "0          aechealgr8@gmail.com      Samuel  Ajirireloja    Abuja   \n",
       "0  adeyinka.statesman@gmail.com    Adeyinka    Statesman  Dhahran   \n",
       "0     samueloreoluwa4@gmail.com      Samuel     Akinlabi    Lagos   \n",
       "0           arevictor@gmail.com      Victor          Are   Ilorin   \n",
       "0     aishatmorenike1@gmail.com      Aishat        Aremu    Lagos   \n",
       "0     igetheophilus02@gmail.com  Theophilus          Ige    Lagos   \n",
       "\n",
       "   Phone number  \n",
       "0    9068924442  \n",
       "0    9076588590  \n",
       "0     582556152  \n",
       "0    7012659092  \n",
       "0    7069395130  \n",
       "0    7084283672  \n",
       "0    8052085331  "
      ]
     },
     "execution_count": 34,
     "metadata": {},
     "output_type": "execute_result"
    }
   ],
   "source": [
    "merge.drop('Unnamed: 0', axis=1)"
   ]
  },
  {
   "cell_type": "code",
   "execution_count": 39,
   "metadata": {},
   "outputs": [
    {
     "data": {
      "text/plain": [
       "Text(0.5,1,'LOCATION')"
      ]
     },
     "execution_count": 39,
     "metadata": {},
     "output_type": "execute_result"
    },
    {
     "data": {
      "image/png": "[encoded data removed]",
      "text/plain": [
       "<matplotlib.figure.Figure at 0x226d79aacc0>"
      ]
     },
     "metadata": {},
     "output_type": "display_data"
    }
   ],
   "source": [
    "plt.figure(figsize=(10,6))\n",
    "sb.countplot(x='Location', data=merge, )#this will plot the different location on personal information\n",
    "#there are 4 different Locations\n",
    "#3 people from lagos, \n",
    "#2 form ilorin, 1 person from abuja \n",
    "#and also one in Dhahran\n",
    "plt.title('LOCATION')"
   ]
  },
  {
   "cell_type": "code",
   "execution_count": null,
   "metadata": {},
   "outputs": [],
   "source": []
  },
  {
   "cell_type": "code",
   "execution_count": null,
   "metadata": {
    "collapsed": true
   },
   "outputs": [],
   "source": []
  }
 ],
 "metadata": {
  "kernelspec": {
   "display_name": "Python 3",
   "language": "python",
   "name": "python3"
  },
  "language_info": {
   "codemirror_mode": {
    "name": "ipython",
    "version": 3
   },
   "file_extension": ".py",
   "mimetype": "text/x-python",
   "name": "python",
   "nbconvert_exporter": "python",
   "pygments_lexer": "ipython3",
   "version": "3.6.3"
  }
 },
 "nbformat": 4,
 "nbformat_minor": 2
}
